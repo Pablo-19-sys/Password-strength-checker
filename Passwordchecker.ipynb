{
  "nbformat": 4,
  "nbformat_minor": 0,
  "metadata": {
    "colab": {
      "provenance": [],
      "authorship_tag": "ABX9TyMS3zsKdoLUuO3fJOpkPkYp",
      "include_colab_link": true
    },
    "kernelspec": {
      "name": "python3",
      "display_name": "Python 3"
    },
    "language_info": {
      "name": "python"
    }
  },
  "cells": [
    {
      "cell_type": "markdown",
      "metadata": {
        "id": "view-in-github",
        "colab_type": "text"
      },
      "source": [
        "<a href=\"https://colab.research.google.com/github/Pablo-19-sys/Password-strength-checker/blob/main/Passwordchecker.ipynb\" target=\"_parent\"><img src=\"https://colab.research.google.com/assets/colab-badge.svg\" alt=\"Open In Colab\"/></a>"
      ]
    },
    {
      "cell_type": "markdown",
      "source": [
        "#Password strength checker\n",
        "A simple and efficient Python script to evaluate the strength of a password based on common security criteria. This tool checks whether a password meets essential requirements for security, such as length, character variety (uppercase, lowercase, digits, special characters), and provides feedback on how to improve weak passwords."
      ],
      "metadata": {
        "id": "8xk_izXGlUu4"
      }
    },
    {
      "cell_type": "code",
      "execution_count": null,
      "metadata": {
        "colab": {
          "base_uri": "https://localhost:8080/"
        },
        "id": "A1Sypv0blTen",
        "outputId": "0db1e2a8-346e-48c5-dab1-4f3b766884d1"
      },
      "outputs": [
        {
          "output_type": "stream",
          "name": "stdout",
          "text": [
            "Enter your password: Pablo.3443??\n",
            "Great password!\n",
            "Suggestions to improve: None\n"
          ]
        }
      ],
      "source": [
        "import re\n",
        "\n",
        "def check_password_strength(password):\n",
        "    conditions = [\n",
        "        len(password) >= 8,\n",
        "        bool(re.search(r\"[A-Z]\", password)),\n",
        "        bool(re.search(r\"[a-z]\", password)),\n",
        "        bool(re.search(r\"[!@#$%^?€&*]\", password)),\n",
        "        bool(re.search(r\"\\d\", password))\n",
        "    ]\n",
        "    strength_score = sum(conditions)\n",
        "    if strength_score == 5:\n",
        "        strength_message = \"Great password!\"\n",
        "    elif strength_score >= 3:\n",
        "        strength_message = \"Good password, but could be better.\"\n",
        "    else:\n",
        "        strength_message = \"Weak password. Consider improving it.\"\n",
        "\n",
        "    suggestions = [\n",
        "        \"Increase the length to at least 8 characters\"\n",
        "        if not conditions[0] else None,\n",
        "        \"Add at least one uppercase letter\"\n",
        "        if not conditions[1] else None,\n",
        "        \"Add at least one lowercase letter\"\n",
        "        if not conditions[2] else None,\n",
        "        \"Add at least one special character (e.g., !@#$%^&*)\"\n",
        "        if not conditions[3] else None,\n",
        "        \"Add at least one number\"\n",
        "        if not conditions[4] else None\n",
        "    ]\n",
        "    suggestions = [s for s in suggestions if s]\n",
        "    suggestions_text = (\n",
        "        \", \".join(suggestions) if suggestions else \"None\"\n",
        "    )\n",
        "    return f\"{strength_message}\\nSuggestions to improve: {suggestions_text}.\"\n",
        "\n",
        "password = input(\"Enter your password: \")\n",
        "print(check_password_strength(password))"
      ]
    }
  ]
}