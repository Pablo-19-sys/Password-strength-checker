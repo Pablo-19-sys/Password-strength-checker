{
  "nbformat": 4,
  "nbformat_minor": 0,
  "metadata": {
    "colab": {
      "provenance": [],
      "authorship_tag": "ABX9TyPraHT5Pj05YT6RL3Gy8Lk1",
      "include_colab_link": true
    },
    "kernelspec": {
      "name": "python3",
      "display_name": "Python 3"
    },
    "language_info": {
      "name": "python"
    }
  },
  "cells": [
    {
      "cell_type": "markdown",
      "metadata": {
        "id": "view-in-github",
        "colab_type": "text"
      },
      "source": [
        "<a href=\"https://colab.research.google.com/github/Pablo-19-sys/Password-strength-checker/blob/main/Passwordchecker.ipynb\" target=\"_parent\"><img src=\"https://colab.research.google.com/assets/colab-badge.svg\" alt=\"Open In Colab\"/></a>"
      ]
    },
    {
      "cell_type": "markdown",
      "source": [
        "#Password strength checker\n",
        "A simple and efficient Python script to evaluate the strength of a password based on common security criteria. This tool checks whether a password meets essential requirements for security, such as length, character variety (uppercase, lowercase, digits, special characters), and provides feedback on how to improve weak passwords."
      ],
      "metadata": {
        "id": "8xk_izXGlUu4"
      }
    },
    {
      "cell_type": "code",
      "execution_count": 3,
      "metadata": {
        "colab": {
          "base_uri": "https://localhost:8080/"
        },
        "id": "A1Sypv0blTen",
        "outputId": "0db1e2a8-346e-48c5-dab1-4f3b766884d1"
      },
      "outputs": [
        {
          "output_type": "stream",
          "name": "stdout",
          "text": [
            "Enter your password: Pablo.3443??\n",
            "Great password!\n",
            "Suggestions to improve: None\n"
          ]
        }
      ],
      "source": [
        "import re\n",
        "\n",
        "def check_password_strength(password):\n",
        "    conditions = [\n",
        "        len(password) >= 8,\n",
        "        bool(re.search(r\"[A-Z]\", password)),\n",
        "        bool(re.search(r\"[a-z]\", password)),\n",
        "        bool(re.search(r\"[!@#$%^?€&*]\", password)),\n",
        "        bool(re.search(r\"\\d\", password))\n",
        "    ]\n",
        "    strength_score = sum(conditions)\n",
        "    strength_message = \"Great password!\" if strength_score == 5 else \"Good password, but could be better.\" if strength_score >= 3 else \"Weak password. Consider improving it.\"\n",
        "    suggestions = [\n",
        "        \"Increase the length to at least 8 characters\" if not conditions[0] else None,\n",
        "        \"Add at least one uppercase letter\" if not conditions[1] else None,\n",
        "        \"Add at least one lowercase letter\" if not conditions[2] else None,\n",
        "        \"Add at least one special character (e.g., !@#$%^&*)\" if not conditions[3] else None,\n",
        "        \"Add at least one number\" if not conditions[4] else None\n",
        "    ]\n",
        "    suggestions = [s for s in suggestions if s]\n",
        "    return f\"{strength_message}\\nSuggestions to improve: {', '.join(suggestions) if suggestions else 'None'}\"\n",
        "\n",
        "password = input(\"Enter your password: \")\n",
        "print(check_password_strength(password))\n"
      ]
    }
  ]
}